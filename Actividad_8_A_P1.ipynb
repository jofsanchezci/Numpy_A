{
  "nbformat": 4,
  "nbformat_minor": 0,
  "metadata": {
    "colab": {
      "provenance": []
    },
    "kernelspec": {
      "name": "python3",
      "display_name": "Python 3"
    },
    "language_info": {
      "name": "python"
    }
  },
  "cells": [
    {
      "cell_type": "code",
      "execution_count": 11,
      "metadata": {
        "colab": {
          "base_uri": "https://localhost:8080/"
        },
        "id": "PELi3nRkz-yr",
        "outputId": "a0823f08-ba93-4359-82ad-101bc39f6c57"
      },
      "outputs": [
        {
          "output_type": "stream",
          "name": "stdout",
          "text": [
            "0.05175177894808125\n"
          ]
        }
      ],
      "source": [
        "import numpy as np\n",
        "import random\n",
        "precio=random.randint(20000,250000)\n",
        "impuesto=random.random()\n",
        "precios=np.array([1,2,3,4,5,6,7,8,9,10])\n",
        "impuesto=np.array([0,0,0,0,0,0,0,0,0,0])"
      ]
    },
    {
      "cell_type": "code",
      "source": [
        "precios=np.empty(10)\n",
        "impuestos=np.empty(10)\n",
        "for i in range(len(precios)):\n",
        "  precio=random.randint(20000,250000)\n",
        "  impuesto=random.random()\n",
        "  precios[i]=precio\n",
        "  impuestos[i]=impuesto\n",
        "\n",
        "print(precios, type(precios), type(precios[0]))\n",
        "print(impuestos, type(impuestos), type(impuestos[0]))\n",
        "\n"
      ],
      "metadata": {
        "colab": {
          "base_uri": "https://localhost:8080/"
        },
        "id": "0LzE_ue81z24",
        "outputId": "a8b3a611-bc20-4ecd-bf00-5db426441e95"
      },
      "execution_count": 15,
      "outputs": [
        {
          "output_type": "stream",
          "name": "stdout",
          "text": [
            "[191585. 155122.  76675. 229849. 194776. 139196.  27300. 238070. 138024.\n",
            " 105028.] <class 'numpy.ndarray'> <class 'numpy.float64'>\n",
            "[0.16130022 0.09561078 0.19444948 0.44812974 0.21216837 0.59988661\n",
            " 0.86848735 0.3458096  0.34488868 0.46204847] <class 'numpy.ndarray'> <class 'numpy.float64'>\n"
          ]
        }
      ]
    },
    {
      "cell_type": "code",
      "source": [
        "#valor_impuesto=[]\n",
        "#valor_prod_impuesto=[]\n",
        "for i in range(len(impuestos)):\n",
        "  print('El valor del impuesto:', i, 'es: ...... ', impuestos[i])\n"
      ],
      "metadata": {
        "colab": {
          "base_uri": "https://localhost:8080/"
        },
        "id": "iA5xb19o2sIb",
        "outputId": "bff7c17d-185f-414d-acc3-9348349677eb"
      },
      "execution_count": 17,
      "outputs": [
        {
          "output_type": "stream",
          "name": "stdout",
          "text": [
            "El valor del impuesto: 0 es: ......  0.1613002208963702\n",
            "El valor del impuesto: 1 es: ......  0.09561077779555116\n",
            "El valor del impuesto: 2 es: ......  0.19444947907592802\n",
            "El valor del impuesto: 3 es: ......  0.4481297351153013\n",
            "El valor del impuesto: 4 es: ......  0.212168373339789\n",
            "El valor del impuesto: 5 es: ......  0.5998866135825537\n",
            "El valor del impuesto: 6 es: ......  0.8684873464383325\n",
            "El valor del impuesto: 7 es: ......  0.345809596218988\n",
            "El valor del impuesto: 8 es: ......  0.3448886816897624\n",
            "El valor del impuesto: 9 es: ......  0.4620484687726687\n"
          ]
        }
      ]
    },
    {
      "cell_type": "code",
      "source": [
        "for i in range(len(precios)):\n",
        "  print('El valor del producto más impuestos para el producto : ', i, 'es: ...... ',round(precios[i]*impuestos[i],2))\n"
      ],
      "metadata": {
        "colab": {
          "base_uri": "https://localhost:8080/"
        },
        "id": "9jAv_qqY3kiY",
        "outputId": "2b766fc3-edb2-45f4-aef3-e7cb82f4cc2a"
      },
      "execution_count": 19,
      "outputs": [
        {
          "output_type": "stream",
          "name": "stdout",
          "text": [
            "El valor del producto más impuestos para el producto :  0 es: ......  30902.7\n",
            "El valor del producto más impuestos para el producto :  1 es: ......  14831.34\n",
            "El valor del producto más impuestos para el producto :  2 es: ......  14909.41\n",
            "El valor del producto más impuestos para el producto :  3 es: ......  103002.17\n",
            "El valor del producto más impuestos para el producto :  4 es: ......  41325.31\n",
            "El valor del producto más impuestos para el producto :  5 es: ......  83501.82\n",
            "El valor del producto más impuestos para el producto :  6 es: ......  23709.7\n",
            "El valor del producto más impuestos para el producto :  7 es: ......  82326.89\n",
            "El valor del producto más impuestos para el producto :  8 es: ......  47602.92\n",
            "El valor del producto más impuestos para el producto :  9 es: ......  48528.03\n"
          ]
        }
      ]
    }
  ]
}