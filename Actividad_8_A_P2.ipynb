{
  "nbformat": 4,
  "nbformat_minor": 0,
  "metadata": {
    "colab": {
      "provenance": []
    },
    "kernelspec": {
      "name": "python3",
      "display_name": "Python 3"
    },
    "language_info": {
      "name": "python"
    }
  },
  "cells": [
    {
      "cell_type": "code",
      "execution_count": 10,
      "metadata": {
        "colab": {
          "base_uri": "https://localhost:8080/"
        },
        "id": "wMOmKVCY4qZi",
        "outputId": "976b462e-6583-4603-d5f1-f3e3aa00baa2"
      },
      "outputs": [
        {
          "output_type": "stream",
          "name": "stdout",
          "text": [
            "La media del arreglo es: ........ 99.93191063961592\n",
            "La mediana del arreglo es: ........ 99.81903478805505\n",
            "La varianza del arreglo es: ........ 48.15467000700873\n",
            "La moda del arreglo es: ........ ModeResult(mode=array([75.83541119]), count=array([1]))\n"
          ]
        },
        {
          "output_type": "stream",
          "name": "stderr",
          "text": [
            "<ipython-input-10-06f8028eda49>:7: FutureWarning: Unlike other reduction functions (e.g. `skew`, `kurtosis`), the default behavior of `mode` typically preserves the axis it acts along. In SciPy 1.11.0, this behavior will change: the default value of `keepdims` will become False, the `axis` over which the statistic is taken will be eliminated, and the value None will no longer be accepted. Set `keepdims` to True or False to avoid this warning.\n",
            "  moda=st.mode(arreglo)\n"
          ]
        }
      ],
      "source": [
        "import numpy as np\n",
        "from scipy import stats as st\n",
        "arreglo=np.random.normal(100,7,5000)\n",
        "print('La media del arreglo es: ........', np.mean(arreglo))\n",
        "print('La mediana del arreglo es: ........', np.median(arreglo))\n",
        "print('La varianza del arreglo es: ........', np.var(arreglo))\n",
        "moda=st.mode(arreglo)\n",
        "print('La moda del arreglo es: ........', moda )\n"
      ]
    },
    {
      "cell_type": "code",
      "source": [
        "print('La desviacion tipica del arreglo es: ........', np.std(arreglo))\n",
        "print('El Rango del arreglo es: ........', np.max(arreglo)-np.min(arreglo))\n",
        "print('El primer cuartil del arreglo es: ........', np.quantile(arreglo,0.25))\n",
        "print('El tercer cuartil del arreglo es: ........', np.quantile(arreglo,0.75))\n",
        "print('El rango intercuartiles del arreglo es: ........', np.quantile(arreglo,0.75)-np.quantile(arreglo,0.25))\n",
        "print('El Máximo  el arreglo es: ........', np.max(arreglo))\n",
        "print('El Mínimo del arreglo es: ........', np.min(arreglo))\n"
      ],
      "metadata": {
        "colab": {
          "base_uri": "https://localhost:8080/"
        },
        "id": "1T02LHIN7C6L",
        "outputId": "d4c5c730-5b49-4dad-8b32-ec30c912d575"
      },
      "execution_count": 17,
      "outputs": [
        {
          "output_type": "stream",
          "name": "stdout",
          "text": [
            "La desviacion tipica del arreglo es: ........ 6.939356598922463\n",
            "El Rango del arreglo es: ........ 48.09924641539435\n",
            "El primer cuartil del arreglo es: ........ 95.32919471449989\n",
            "El tercer cuartil del arreglo es: ........ 104.54938767040754\n",
            "El rango intercuartiles del arreglo es: ........ 9.220192955907649\n",
            "El Máximo  el arreglo es: ........ 123.9346576066586\n",
            "El Mínimo del arreglo es: ........ 75.83541119126426\n"
          ]
        }
      ]
    }
  ]
}